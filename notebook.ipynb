{
 "cells": [
  {
   "cell_type": "markdown",
   "metadata": {},
   "source": [
    "### Introducción"
   ]
  },
  {
   "cell_type": "markdown",
   "metadata": {},
   "source": [
    "**Descripción**: Un simulador donde el usuario puede practicar una entrevista laboral en tiempo real, con preguntas generadas por la API de ChatGPT. Además, el sistema proporcionará retroalimentación automática sobre las respuestas, sugiriendo mejoras en términos de estructura, claridad y contenido."
   ]
  },
  {
   "cell_type": "markdown",
   "metadata": {},
   "source": [
    "**Objetivo**: Ayudar a los usuarios a prepararse mejor para entrevistas laborales a través de simulaciones realistas con preguntas ajustadas al tipo de trabajo y proporcionando sugerencias para mejorar sus respuestas."
   ]
  },
  {
   "cell_type": "code",
   "execution_count": null,
   "metadata": {},
   "outputs": [],
   "source": [
    "from openai import OpenAI\n",
    "from dotenv import load_dotenv\n",
    "import os\n",
    "\n",
    "# Cargar la clave API de OpenAI desde .env\n",
    "load_dotenv()\n",
    "\n",
    "api_key = os.getenv('OPENAI_API_KEY')\n",
    "client = OpenAI(api_key=api_key)\n",
    "\n",
    "def generar_pregunta(tipo_trabajo):\n",
    "    \"\"\"Generar una pregunta de entrevista basada en el tipo de trabajo\"\"\"\n",
    "    prompt = f\"Eres un entrevistador experimentado en el área de {tipo_trabajo}. Haz una pregunta típica de entrevista para este tipo de trabajo.\"\n",
    "    completion = client.chat.completions.create(\n",
    "        model=\"gpt-3.5-turbo\",\n",
    "        messages=[{\"role\": \"system\", \"content\": prompt}]\n",
    "    )\n",
    "    return completion.choices[0].message.content\n",
    "\n",
    "def evaluar_respuesta(respuesta_usuario, tipo_trabajo):\n",
    "    \"\"\"Evaluar la respuesta del usuario y proporcionar retroalimentación\"\"\"\n",
    "    prompt = f\"Evaluar la siguiente respuesta para una entrevista de trabajo en el área de {tipo_trabajo}. Proporciona retroalimentación y sugiere mejoras en términos de estructura, claridad y contenido.\\n\\nRespuesta: {respuesta_usuario}\"\n",
    "    \n",
    "    completion = client.chat.completions.create(\n",
    "        model=\"gpt-3.5-turbo\",\n",
    "        messages=[{\"role\": \"system\", \"content\": prompt}]\n",
    "    )\n",
    "    return completion.choices[0].message.content\n",
    "\n",
    "def simulacion_entrevista(tipo_trabajo):\n",
    "    \"\"\"Función principal que simula una entrevista completa\"\"\"\n",
    "    print(\"Bienvenido a la simulación de entrevista laboral.\")\n",
    "    while True:\n",
    "        # Generar una pregunta para el usuario\n",
    "        pregunta = generar_pregunta(tipo_trabajo)\n",
    "        print(f\"Entrevistador: {pregunta}\")\n",
    "        \n",
    "        # Obtener la respuesta del usuario\n",
    "        respuesta_usuario = input(\"Tu respuesta: \")\n",
    "        \n",
    "        # Evaluar la respuesta del usuario\n",
    "        retroalimentacion = evaluar_respuesta(respuesta_usuario, tipo_trabajo)\n",
    "        print(f\"Retroalimentación: {retroalimentacion}\")\n",
    "        \n",
    "        # Preguntar si quiere continuar\n",
    "        continuar = input(\"¿Quieres otra pregunta? (sí/no): \").lower()\n",
    "        if continuar != \"sí\":\n",
    "            break\n",
    "\n",
    "# Ejecutar la simulación para un tipo de trabajo específico\n",
    "tipo_trabajo = input(\"¿Para qué tipo de trabajo quieres practicar? \")\n",
    "simulacion_entrevista(tipo_trabajo)"
   ]
  }
 ],
 "metadata": {
  "kernelspec": {
   "display_name": "base",
   "language": "python",
   "name": "python3"
  },
  "language_info": {
   "codemirror_mode": {
    "name": "ipython",
    "version": 3
   },
   "file_extension": ".py",
   "mimetype": "text/x-python",
   "name": "python",
   "nbconvert_exporter": "python",
   "pygments_lexer": "ipython3",
   "version": "3.12.4"
  }
 },
 "nbformat": 4,
 "nbformat_minor": 2
}
