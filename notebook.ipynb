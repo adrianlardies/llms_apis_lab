{
 "cells": [
  {
   "cell_type": "markdown",
   "metadata": {},
   "source": [
    "### Introducción"
   ]
  },
  {
   "cell_type": "markdown",
   "metadata": {},
   "source": [
    "**Descripción**: Un simulador donde el usuario puede practicar una entrevista laboral en tiempo real, con preguntas generadas por la API de ChatGPT. Además, el sistema proporcionará retroalimentación automática sobre las respuestas, sugiriendo mejoras en términos de estructura, claridad y contenido."
   ]
  },
  {
   "cell_type": "markdown",
   "metadata": {},
   "source": [
    "**Objetivo**: Ayudar a los usuarios a prepararse mejor para entrevistas laborales a través de simulaciones realistas con preguntas ajustadas al tipo de trabajo y proporcionando sugerencias para mejorar sus respuestas."
   ]
  },
  {
   "cell_type": "code",
   "execution_count": 55,
   "metadata": {},
   "outputs": [
    {
     "name": "stdout",
     "output_type": "stream",
     "text": [
      "ChatCompletionMessage(content=\"In the realm of code, a concept sublime,  \\nWhere functions dance in a recursive rhyme.  \\nA method that calls itself, a loop profound,  \\nIn Python's world, recursion is crowned.  \\n\\nLike fractal branches of a digital tree,  \\nEach call unfolds a new possibility.  \\nDivide and conquer with elegance and grace,  \\nRecursive functions find their rightful place.  \\n\\nBase case, the key to this elegant dance,  \\nA condition met, the code will advance.  \\nWith each passing call, the problem shrinks,  \\nUntil the solution brightly winks.  \\n\\nBut tread with care in this infinite loop,  \\nToo deep a recursion may lead to a group  \\nOf stack overflows, a programmer's plight,  \\nA reminder to keep your code exquisitely tight.  \\n\\nSo whether Fibonacci or Towers of Hanoi,  \\nRecursion in Python, an artful coy.  \\nA concept profound, yet beautifully clear,  \\nIn the world of programming, recursion reigns dear.\", refusal=None, role='assistant', function_call=None, tool_calls=None)\n"
     ]
    }
   ],
   "source": [
    "from openai import OpenAI\n",
    "from dotenv import load_dotenv\n",
    "import os\n",
    "\n",
    "load_dotenv()\n",
    "\n",
    "api_key = os.getenv('OPENAI_API_KEY')\n",
    "\n",
    "client = OpenAI(api_key=api_key)\n",
    "\n",
    "completion = client.chat.completions.create(\n",
    "  model=\"gpt-3.5-turbo\",\n",
    "  messages=[\n",
    "    {\"role\": \"system\", \"content\": \"You are a poetic assistant, skilled in explaining complex programming concepts with creative flair.\"},\n",
    "    {\"role\": \"user\", \"content\": \"Compose a poem that explains the concept of recursion in programming in Python for ChatGPT\"}\n",
    "  ]\n",
    ")\n",
    "\n",
    "print(completion.choices[0].message)"
   ]
  }
 ],
 "metadata": {
  "kernelspec": {
   "display_name": "base",
   "language": "python",
   "name": "python3"
  },
  "language_info": {
   "codemirror_mode": {
    "name": "ipython",
    "version": 3
   },
   "file_extension": ".py",
   "mimetype": "text/x-python",
   "name": "python",
   "nbconvert_exporter": "python",
   "pygments_lexer": "ipython3",
   "version": "3.12.4"
  }
 },
 "nbformat": 4,
 "nbformat_minor": 2
}
